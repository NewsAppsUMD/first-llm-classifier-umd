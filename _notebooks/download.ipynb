{
 "cells": [
  {
   "cell_type": "code",
   "execution_count": 1,
   "id": "c33dd0ec-55e3-4892-824a-8be6876b9c98",
   "metadata": {},
   "outputs": [],
   "source": [
    "import os\n",
    "import bln\n",
    "import pandas as pd"
   ]
  },
  {
   "cell_type": "code",
   "execution_count": 2,
   "id": "d734f97d-430d-4e87-a282-c0e638782592",
   "metadata": {},
   "outputs": [],
   "source": [
    "bln.pandas.register(pd)"
   ]
  },
  {
   "cell_type": "code",
   "execution_count": 10,
   "id": "cc63642a-4685-4a87-8ec9-3ae908628d12",
   "metadata": {},
   "outputs": [],
   "source": [
    "def get_payees(file_name: str) -> None:\n",
    "    # Get the table from biglocalnews.org via its API.\n",
    "    print(f\"Downloading {file_name}\")\n",
    "    df = pd.read_bln(\n",
    "        \"UHJvamVjdDo2MDVjNzdiYS0wODI4LTRlOTEtOGM3OC03ZjA4NGI2ZDEwZWE=\",\n",
    "        file_name,\n",
    "        os.getenv(\"BLN_API_KEY\"),\n",
    "        dtype=str,\n",
    "    )\n",
    "    print(f\"- {len(df)} records\")\n",
    "    \n",
    "    # Cut out any records that have a first name. They will be people and not businesses. We don't want them.\n",
    "    nopeople_df = df[pd.isnull(df.payee_firstname)].copy()\n",
    "\n",
    "    # Get a distinct list of payees.\n",
    "    distinct_payees = nopeople_df.payee_lastname.str.upper().unique()\n",
    "\n",
    "    # Convert that back into a DataFrame.\n",
    "    payee_df = pd.DataFrame(distinct_payees, columns=[\"payee\"]).sort_values(\"payee\")\n",
    "    print(f\"- {len(payee_df)} distinct payees\")\n",
    "\n",
    "    # Write it out\n",
    "    payee_df.to_csv(file_name, index=False)"
   ]
  },
  {
   "cell_type": "code",
   "execution_count": 11,
   "id": "2a2097d7-91fe-44a8-9548-8351c807e31c",
   "metadata": {},
   "outputs": [
    {
     "name": "stdout",
     "output_type": "stream",
     "text": [
      "Downloading Form460ScheduleEItem.csv\n",
      "- 4390182 records\n",
      "- 216842 distinct payees\n",
      "Downloading Form460ScheduleESubItem.csv\n",
      "- 100491 records\n",
      "- 16448 distinct payees\n"
     ]
    }
   ],
   "source": [
    "file_list = [\n",
    "    \"Form460ScheduleEItem.csv\",\n",
    "    \"Form460ScheduleESubItem.csv\"\n",
    "]\n",
    "for file_name in file_list:\n",
    "    get_payees(file_name)"
   ]
  }
 ],
 "metadata": {
  "kernelspec": {
   "display_name": "Python 3 (ipykernel)",
   "language": "python",
   "name": "python3"
  },
  "language_info": {
   "codemirror_mode": {
    "name": "ipython",
    "version": 3
   },
   "file_extension": ".py",
   "mimetype": "text/x-python",
   "name": "python",
   "nbconvert_exporter": "python",
   "pygments_lexer": "ipython3",
   "version": "3.12.0"
  }
 },
 "nbformat": 4,
 "nbformat_minor": 5
}
