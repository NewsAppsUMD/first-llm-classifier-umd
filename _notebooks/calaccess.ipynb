{
 "cells": [
  {
   "cell_type": "code",
   "execution_count": 29,
   "id": "c33dd0ec-55e3-4892-824a-8be6876b9c98",
   "metadata": {},
   "outputs": [],
   "source": [
    "import pandas as pd"
   ]
  },
  {
   "cell_type": "markdown",
   "id": "2dbefcf7-02c2-43eb-af95-afb9431519ab",
   "metadata": {},
   "source": [
    "Import the subitem table."
   ]
  },
  {
   "cell_type": "code",
   "execution_count": 41,
   "id": "d03eb4f7-e88f-42f4-9f5c-c9c586f1a16c",
   "metadata": {},
   "outputs": [],
   "source": [
    "df = pd.read_csv(\"./Form460ScheduleESubItem.csv\", dtype=str)"
   ]
  },
  {
   "cell_type": "markdown",
   "id": "ed9ab287-503e-4ca4-8857-2e6c4b9ed2ba",
   "metadata": {},
   "source": [
    "Cut out any records that have a first name. They will be people and not busineses. We don't want them."
   ]
  },
  {
   "cell_type": "code",
   "execution_count": 42,
   "id": "7fc9a1cf-ad9a-4497-82a4-ebbddd908459",
   "metadata": {},
   "outputs": [],
   "source": [
    "nopeople_df = df[pd.isnull(df.payee_firstname)].copy()"
   ]
  },
  {
   "cell_type": "markdown",
   "id": "16bed890-d304-45a3-b7ef-c79fa20b65a8",
   "metadata": {},
   "source": [
    "Get the distinct list of payees."
   ]
  },
  {
   "cell_type": "code",
   "execution_count": 43,
   "id": "af82249a-8b26-40f0-be84-56986b693193",
   "metadata": {},
   "outputs": [],
   "source": [
    "distinct_payees = nopeople_df.payee_lastname.str.upper().unique()"
   ]
  },
  {
   "cell_type": "markdown",
   "id": "ad3da9b7-9aee-4afc-8110-a7458fef2d42",
   "metadata": {},
   "source": [
    "Convert that back into a DataFrame."
   ]
  },
  {
   "cell_type": "code",
   "execution_count": 44,
   "id": "7a27a6f9-4ab6-40db-9ae8-1f31cde4e336",
   "metadata": {},
   "outputs": [],
   "source": [
    "payee_df = pd.DataFrame(distinct_payees, columns=[\"payee\"]).sort_values(\"payee\")"
   ]
  },
  {
   "cell_type": "code",
   "execution_count": 45,
   "id": "2a2097d7-91fe-44a8-9548-8351c807e31c",
   "metadata": {},
   "outputs": [
    {
     "data": {
      "text/plain": [
       "16448"
      ]
     },
     "execution_count": 45,
     "metadata": {},
     "output_type": "execute_result"
    }
   ],
   "source": [
    "len(payee_df)"
   ]
  },
  {
   "cell_type": "code",
   "execution_count": 46,
   "id": "62bfb296-caec-49e5-84cc-391891600746",
   "metadata": {},
   "outputs": [],
   "source": [
    "payee_df.to_csv(\"payees.csv\", index=False)"
   ]
  }
 ],
 "metadata": {
  "kernelspec": {
   "display_name": "Python 3 (ipykernel)",
   "language": "python",
   "name": "python3"
  },
  "language_info": {
   "codemirror_mode": {
    "name": "ipython",
    "version": 3
   },
   "file_extension": ".py",
   "mimetype": "text/x-python",
   "name": "python",
   "nbconvert_exporter": "python",
   "pygments_lexer": "ipython3",
   "version": "3.12.0"
  }
 },
 "nbformat": 4,
 "nbformat_minor": 5
}
