{
 "cells": [
  {
   "cell_type": "markdown",
   "id": "92071a0e-06aa-4a07-aae7-9e62505b169f",
   "metadata": {},
   "source": [
    "# First LLM Classifier scratchpad\n",
    "\n",
    "A rough draft of the class"
   ]
  },
  {
   "cell_type": "markdown",
   "id": "508dd93b-5f8b-4509-a1fd-6af18aed5f9d",
   "metadata": {},
   "source": [
    "## Getting started"
   ]
  },
  {
   "cell_type": "markdown",
   "id": "e211489f-601f-412b-8754-b6b000dd7079",
   "metadata": {},
   "source": [
    "Get your API key\n",
    "\n",
    "- Go to groq.com\n",
    "- Click on \"Dev console\" and jump to https://console.groq.com/playground\n",
    "- Create an account. I logged in with GitHub. You can do whatever you'd like.\n",
    "- Click API keys in the left hand toolbar\n",
    "- Hit create API key\n",
    "- Name it\n",
    "- Copy it to your clipboard\n",
    "- Paste it in a .env file"
   ]
  },
  {
   "cell_type": "markdown",
   "id": "22a72a22-72cb-4386-878b-3a338bb30f47",
   "metadata": {},
   "source": [
    "Open a notebook and install the Python tools we'll use."
   ]
  },
  {
   "cell_type": "code",
   "execution_count": 49,
   "id": "fa349381-53ed-4535-a71c-eabb3d3990b7",
   "metadata": {},
   "outputs": [
    {
     "name": "stdout",
     "output_type": "stream",
     "text": [
      "\u001b[2mUsing Python 3.12.0 environment at: /home/palewire/Code/first-llm-classifier/.venv\u001b[0m\n",
      "\u001b[2mAudited \u001b[1m1 package\u001b[0m \u001b[2min 1ms\u001b[0m\u001b[0m\n",
      "\u001b[2mUsing Python 3.12.0 environment at: /home/palewire/Code/first-llm-classifier/.venv\u001b[0m\n",
      "\u001b[2mAudited \u001b[1m1 package\u001b[0m \u001b[2min 1ms\u001b[0m\u001b[0m\n",
      "\u001b[2mUsing Python 3.12.0 environment at: /home/palewire/Code/first-llm-classifier/.venv\u001b[0m\n",
      "\u001b[2mAudited \u001b[1m1 package\u001b[0m \u001b[2min 2ms\u001b[0m\u001b[0m\n",
      "\u001b[2mUsing Python 3.12.0 environment at: /home/palewire/Code/first-llm-classifier/.venv\u001b[0m\n",
      "\u001b[2mAudited \u001b[1m1 package\u001b[0m \u001b[2min 1ms\u001b[0m\u001b[0m\n",
      "\u001b[2mUsing Python 3.12.0 environment at: /home/palewire/Code/first-llm-classifier/.venv\u001b[0m\n",
      "\u001b[2mAudited \u001b[1m1 package\u001b[0m \u001b[2min 1ms\u001b[0m\u001b[0m\n"
     ]
    }
   ],
   "source": [
    "!uv pip install pandas\n",
    "!uv pip install groq\n",
    "!uv pip install scikit-learn\n",
    "!uv pip install rich\n",
    "!uv pip install retry"
   ]
  },
  {
   "cell_type": "markdown",
   "id": "da1e707a-9c4e-4edd-9b46-53030acb2239",
   "metadata": {},
   "source": [
    "## First Python prompt\n",
    "\n",
    "Import Python tools"
   ]
  },
  {
   "cell_type": "code",
   "execution_count": 14,
   "id": "2aed4a20-c8db-4a29-8afe-b74a94ef3086",
   "metadata": {},
   "outputs": [],
   "source": [
    "import os\n",
    "from rich import print\n",
    "from groq import Groq"
   ]
  },
  {
   "cell_type": "markdown",
   "id": "c73c5571-a47f-44ac-9a7c-8842224e917a",
   "metadata": {},
   "source": [
    "Get the api_key"
   ]
  },
  {
   "cell_type": "code",
   "execution_count": 5,
   "id": "b7938a4d-20f1-4b87-9a2a-6b697117ada1",
   "metadata": {},
   "outputs": [],
   "source": [
    "api_key = os.environ.get(\"GROQ_API_KEY\")"
   ]
  },
  {
   "cell_type": "markdown",
   "id": "0a541659-f124-483c-a36b-5d052c8bf220",
   "metadata": {},
   "source": [
    "Login to Grok and save the client for reuse."
   ]
  },
  {
   "cell_type": "code",
   "execution_count": 7,
   "id": "d603b303-f822-4780-8b8d-0a0f75026841",
   "metadata": {},
   "outputs": [],
   "source": [
    "client = Groq(api_key=api_key)"
   ]
  },
  {
   "cell_type": "markdown",
   "id": "e4bc9f69-3a81-4867-8bc3-5e7ba0839b5b",
   "metadata": {},
   "source": [
    "Let make our first prompt"
   ]
  },
  {
   "cell_type": "code",
   "execution_count": 17,
   "id": "fa8c81c3-6ecc-4f15-8fbe-35d73561f546",
   "metadata": {},
   "outputs": [],
   "source": [
    "response = client.chat.completions.create(\n",
    "    messages=[\n",
    "        {\n",
    "            \"role\": \"user\",\n",
    "            \"content\": \"Explain the importance of data journalism in a concise sentence\",\n",
    "        }\n",
    "    ],\n",
    "    model=\"llama-3.3-70b-versatile\",\n",
    ")"
   ]
  },
  {
   "cell_type": "code",
   "execution_count": 18,
   "id": "cc36bef8-1a62-4c82-8cbe-6ef362515034",
   "metadata": {},
   "outputs": [
    {
     "data": {
      "text/html": [
       "<pre style=\"white-space:pre;overflow-x:auto;line-height:normal;font-family:Menlo,'DejaVu Sans Mono',consolas,'Courier New',monospace\"><span style=\"color: #800080; text-decoration-color: #800080; font-weight: bold\">ChatCompletion</span><span style=\"font-weight: bold\">(</span>\n",
       "    <span style=\"color: #808000; text-decoration-color: #808000\">id</span>=<span style=\"color: #008000; text-decoration-color: #008000\">'chatcmpl-e219e15c-471f-468c-a0f7-69ba31c83da6'</span>,\n",
       "    <span style=\"color: #808000; text-decoration-color: #808000\">choices</span>=<span style=\"font-weight: bold\">[</span>\n",
       "        <span style=\"color: #800080; text-decoration-color: #800080; font-weight: bold\">Choice</span><span style=\"font-weight: bold\">(</span>\n",
       "            <span style=\"color: #808000; text-decoration-color: #808000\">finish_reason</span>=<span style=\"color: #008000; text-decoration-color: #008000\">'stop'</span>,\n",
       "            <span style=\"color: #808000; text-decoration-color: #808000\">index</span>=<span style=\"color: #008080; text-decoration-color: #008080; font-weight: bold\">0</span>,\n",
       "            <span style=\"color: #808000; text-decoration-color: #808000\">logprobs</span>=<span style=\"color: #800080; text-decoration-color: #800080; font-style: italic\">None</span>,\n",
       "            <span style=\"color: #808000; text-decoration-color: #808000\">message</span>=<span style=\"color: #800080; text-decoration-color: #800080; font-weight: bold\">ChatCompletionMessage</span><span style=\"font-weight: bold\">(</span>\n",
       "                <span style=\"color: #808000; text-decoration-color: #808000\">content</span>=<span style=\"color: #008000; text-decoration-color: #008000\">'Data journalism plays a crucial role in holding those in power accountable by providing </span>\n",
       "<span style=\"color: #008000; text-decoration-color: #008000\">fact-based insights and analysis, enabling informed decision-making, and promoting transparency through the use of </span>\n",
       "<span style=\"color: #008000; text-decoration-color: #008000\">data-driven storytelling.'</span>,\n",
       "                <span style=\"color: #808000; text-decoration-color: #808000\">role</span>=<span style=\"color: #008000; text-decoration-color: #008000\">'assistant'</span>,\n",
       "                <span style=\"color: #808000; text-decoration-color: #808000\">function_call</span>=<span style=\"color: #800080; text-decoration-color: #800080; font-style: italic\">None</span>,\n",
       "                <span style=\"color: #808000; text-decoration-color: #808000\">reasoning</span>=<span style=\"color: #800080; text-decoration-color: #800080; font-style: italic\">None</span>,\n",
       "                <span style=\"color: #808000; text-decoration-color: #808000\">tool_calls</span>=<span style=\"color: #800080; text-decoration-color: #800080; font-style: italic\">None</span>\n",
       "            <span style=\"font-weight: bold\">)</span>\n",
       "        <span style=\"font-weight: bold\">)</span>\n",
       "    <span style=\"font-weight: bold\">]</span>,\n",
       "    <span style=\"color: #808000; text-decoration-color: #808000\">created</span>=<span style=\"color: #008080; text-decoration-color: #008080; font-weight: bold\">1740671812</span>,\n",
       "    <span style=\"color: #808000; text-decoration-color: #808000\">model</span>=<span style=\"color: #008000; text-decoration-color: #008000\">'llama-3.3-70b-versatile'</span>,\n",
       "    <span style=\"color: #808000; text-decoration-color: #808000\">object</span>=<span style=\"color: #008000; text-decoration-color: #008000\">'chat.completion'</span>,\n",
       "    <span style=\"color: #808000; text-decoration-color: #808000\">system_fingerprint</span>=<span style=\"color: #008000; text-decoration-color: #008000\">'fp_76dc6cf67d'</span>,\n",
       "    <span style=\"color: #808000; text-decoration-color: #808000\">usage</span>=<span style=\"color: #800080; text-decoration-color: #800080; font-weight: bold\">CompletionUsage</span><span style=\"font-weight: bold\">(</span>\n",
       "        <span style=\"color: #808000; text-decoration-color: #808000\">completion_tokens</span>=<span style=\"color: #008080; text-decoration-color: #008080; font-weight: bold\">37</span>,\n",
       "        <span style=\"color: #808000; text-decoration-color: #808000\">prompt_tokens</span>=<span style=\"color: #008080; text-decoration-color: #008080; font-weight: bold\">46</span>,\n",
       "        <span style=\"color: #808000; text-decoration-color: #808000\">total_tokens</span>=<span style=\"color: #008080; text-decoration-color: #008080; font-weight: bold\">83</span>,\n",
       "        <span style=\"color: #808000; text-decoration-color: #808000\">completion_time</span>=<span style=\"color: #008080; text-decoration-color: #008080; font-weight: bold\">0.134545455</span>,\n",
       "        <span style=\"color: #808000; text-decoration-color: #808000\">prompt_time</span>=<span style=\"color: #008080; text-decoration-color: #008080; font-weight: bold\">0.00492856</span>,\n",
       "        <span style=\"color: #808000; text-decoration-color: #808000\">queue_time</span>=<span style=\"color: #008080; text-decoration-color: #008080; font-weight: bold\">0.231341476</span>,\n",
       "        <span style=\"color: #808000; text-decoration-color: #808000\">total_time</span>=<span style=\"color: #008080; text-decoration-color: #008080; font-weight: bold\">0.139474015</span>\n",
       "    <span style=\"font-weight: bold\">)</span>,\n",
       "    <span style=\"color: #808000; text-decoration-color: #808000\">x_groq</span>=<span style=\"font-weight: bold\">{</span><span style=\"color: #008000; text-decoration-color: #008000\">'id'</span>: <span style=\"color: #008000; text-decoration-color: #008000\">'req_01jn4200h0e4s8e12pj5d2e3ye'</span><span style=\"font-weight: bold\">}</span>\n",
       "<span style=\"font-weight: bold\">)</span>\n",
       "</pre>\n"
      ],
      "text/plain": [
       "\u001b[1;35mChatCompletion\u001b[0m\u001b[1m(\u001b[0m\n",
       "    \u001b[33mid\u001b[0m=\u001b[32m'chatcmpl-e219e15c-471f-468c-a0f7-69ba31c83da6'\u001b[0m,\n",
       "    \u001b[33mchoices\u001b[0m=\u001b[1m[\u001b[0m\n",
       "        \u001b[1;35mChoice\u001b[0m\u001b[1m(\u001b[0m\n",
       "            \u001b[33mfinish_reason\u001b[0m=\u001b[32m'stop'\u001b[0m,\n",
       "            \u001b[33mindex\u001b[0m=\u001b[1;36m0\u001b[0m,\n",
       "            \u001b[33mlogprobs\u001b[0m=\u001b[3;35mNone\u001b[0m,\n",
       "            \u001b[33mmessage\u001b[0m=\u001b[1;35mChatCompletionMessage\u001b[0m\u001b[1m(\u001b[0m\n",
       "                \u001b[33mcontent\u001b[0m=\u001b[32m'Data journalism plays a crucial role in holding those in power accountable by providing \u001b[0m\n",
       "\u001b[32mfact-based insights and analysis, enabling informed decision-making, and promoting transparency through the use of \u001b[0m\n",
       "\u001b[32mdata-driven storytelling.'\u001b[0m,\n",
       "                \u001b[33mrole\u001b[0m=\u001b[32m'assistant'\u001b[0m,\n",
       "                \u001b[33mfunction_call\u001b[0m=\u001b[3;35mNone\u001b[0m,\n",
       "                \u001b[33mreasoning\u001b[0m=\u001b[3;35mNone\u001b[0m,\n",
       "                \u001b[33mtool_calls\u001b[0m=\u001b[3;35mNone\u001b[0m\n",
       "            \u001b[1m)\u001b[0m\n",
       "        \u001b[1m)\u001b[0m\n",
       "    \u001b[1m]\u001b[0m,\n",
       "    \u001b[33mcreated\u001b[0m=\u001b[1;36m1740671812\u001b[0m,\n",
       "    \u001b[33mmodel\u001b[0m=\u001b[32m'llama-3.3-70b-versatile'\u001b[0m,\n",
       "    \u001b[33mobject\u001b[0m=\u001b[32m'chat.completion'\u001b[0m,\n",
       "    \u001b[33msystem_fingerprint\u001b[0m=\u001b[32m'fp_76dc6cf67d'\u001b[0m,\n",
       "    \u001b[33musage\u001b[0m=\u001b[1;35mCompletionUsage\u001b[0m\u001b[1m(\u001b[0m\n",
       "        \u001b[33mcompletion_tokens\u001b[0m=\u001b[1;36m37\u001b[0m,\n",
       "        \u001b[33mprompt_tokens\u001b[0m=\u001b[1;36m46\u001b[0m,\n",
       "        \u001b[33mtotal_tokens\u001b[0m=\u001b[1;36m83\u001b[0m,\n",
       "        \u001b[33mcompletion_time\u001b[0m=\u001b[1;36m0\u001b[0m\u001b[1;36m.134545455\u001b[0m,\n",
       "        \u001b[33mprompt_time\u001b[0m=\u001b[1;36m0\u001b[0m\u001b[1;36m.00492856\u001b[0m,\n",
       "        \u001b[33mqueue_time\u001b[0m=\u001b[1;36m0\u001b[0m\u001b[1;36m.231341476\u001b[0m,\n",
       "        \u001b[33mtotal_time\u001b[0m=\u001b[1;36m0\u001b[0m\u001b[1;36m.139474015\u001b[0m\n",
       "    \u001b[1m)\u001b[0m,\n",
       "    \u001b[33mx_groq\u001b[0m=\u001b[1m{\u001b[0m\u001b[32m'id'\u001b[0m: \u001b[32m'req_01jn4200h0e4s8e12pj5d2e3ye'\u001b[0m\u001b[1m}\u001b[0m\n",
       "\u001b[1m)\u001b[0m\n"
      ]
     },
     "metadata": {},
     "output_type": "display_data"
    }
   ],
   "source": [
    "print(response)"
   ]
  },
  {
   "cell_type": "code",
   "execution_count": 19,
   "id": "ac971a53-a1db-48f8-9b66-36c7c0b200eb",
   "metadata": {},
   "outputs": [
    {
     "data": {
      "text/html": [
       "<pre style=\"white-space:pre;overflow-x:auto;line-height:normal;font-family:Menlo,'DejaVu Sans Mono',consolas,'Courier New',monospace\">Data journalism plays a crucial role in holding those in power accountable by providing fact-based insights and \n",
       "analysis, enabling informed decision-making, and promoting transparency through the use of data-driven \n",
       "storytelling.\n",
       "</pre>\n"
      ],
      "text/plain": [
       "Data journalism plays a crucial role in holding those in power accountable by providing fact-based insights and \n",
       "analysis, enabling informed decision-making, and promoting transparency through the use of data-driven \n",
       "storytelling.\n"
      ]
     },
     "metadata": {},
     "output_type": "display_data"
    }
   ],
   "source": [
    "print(response.choices[0].message.content)"
   ]
  },
  {
   "cell_type": "markdown",
   "id": "473e00a7-eb8b-4ba7-a46a-1222f7edcb77",
   "metadata": {},
   "source": [
    "Show how you can substitute in a different model and use the same code."
   ]
  },
  {
   "cell_type": "code",
   "execution_count": 28,
   "id": "13f13fbb-7a04-40da-94ec-87d215c9fe68",
   "metadata": {},
   "outputs": [],
   "source": [
    "response = client.chat.completions.create(\n",
    "    messages=[\n",
    "        {\n",
    "            \"role\": \"user\",\n",
    "            \"content\": \"Explain the importance of data journalism in a concise sentence\",\n",
    "        }\n",
    "    ],\n",
    "    model=\"gemma2-9b-it\",\n",
    ")"
   ]
  },
  {
   "cell_type": "code",
   "execution_count": 29,
   "id": "b6b021b5-e66c-4f29-9a3e-26f64cc228c1",
   "metadata": {},
   "outputs": [
    {
     "data": {
      "text/html": [
       "<pre style=\"white-space:pre;overflow-x:auto;line-height:normal;font-family:Menlo,'DejaVu Sans Mono',consolas,'Courier New',monospace\">Data journalism illuminates complex issues, empowers informed decision-making, and drives accountability through \n",
       "the rigorous analysis and visualization of data. \n",
       "\n",
       "</pre>\n"
      ],
      "text/plain": [
       "Data journalism illuminates complex issues, empowers informed decision-making, and drives accountability through \n",
       "the rigorous analysis and visualization of data. \n",
       "\n"
      ]
     },
     "metadata": {},
     "output_type": "display_data"
    }
   ],
   "source": [
    "print(response.choices[0].message.content)"
   ]
  },
  {
   "cell_type": "markdown",
   "id": "756981cd-98a9-463f-9032-fc5c31069b04",
   "metadata": {},
   "source": [
    "Show how you can make a system prompt to prime the LLM"
   ]
  },
  {
   "cell_type": "code",
   "execution_count": 20,
   "id": "5dbc1cfb-4ea6-4ae5-8472-d2ce0081070e",
   "metadata": {},
   "outputs": [],
   "source": [
    "response = client.chat.completions.create(\n",
    "    messages=[\n",
    "        {\n",
    "            \"role\": \"system\",\n",
    "            \"content\": \"you are an enthusiastic nerd who believes data journalism is the future.\"\n",
    "\n",
    "        },\n",
    "        {\n",
    "            \"role\": \"user\",\n",
    "            \"content\": \"Explain the importance of data journalism in a concise sentence\",\n",
    "        }\n",
    "    ],\n",
    "    model=\"llama-3.3-70b-versatile\",\n",
    ")"
   ]
  },
  {
   "cell_type": "code",
   "execution_count": 21,
   "id": "02a0f671-ccf8-4a3b-b4bd-c198cb80492e",
   "metadata": {},
   "outputs": [
    {
     "data": {
      "text/html": [
       "<pre style=\"white-space:pre;overflow-x:auto;line-height:normal;font-family:Menlo,'DejaVu Sans Mono',consolas,'Courier New',monospace\">Data journalism revolutionizes the way we consume news by using data analysis and visualization to uncover hidden \n",
       "patterns, expose truth, and hold those in power accountable, making it an indispensable tool for a transparent and \n",
       "informed society.\n",
       "</pre>\n"
      ],
      "text/plain": [
       "Data journalism revolutionizes the way we consume news by using data analysis and visualization to uncover hidden \n",
       "patterns, expose truth, and hold those in power accountable, making it an indispensable tool for a transparent and \n",
       "informed society.\n"
      ]
     },
     "metadata": {},
     "output_type": "display_data"
    }
   ],
   "source": [
    "print(response.choices[0].message.content)"
   ]
  },
  {
   "cell_type": "code",
   "execution_count": 24,
   "id": "a1074253-afb5-40ff-85ed-68dc4bf3d6e4",
   "metadata": {},
   "outputs": [],
   "source": [
    "response = client.chat.completions.create(\n",
    "    messages=[\n",
    "        {\n",
    "            \"role\": \"system\",\n",
    "            \"content\": \"you are a crusty, ill-tempered editor who hates math and thinks data journalism is a waste of time and resources.\"\n",
    "\n",
    "        },\n",
    "        {\n",
    "            \"role\": \"user\",\n",
    "            \"content\": \"Explain the importance of data journalism in a concise sentence\",\n",
    "        }\n",
    "    ],\n",
    "    model=\"llama-3.3-70b-versatile\",\n",
    ")"
   ]
  },
  {
   "cell_type": "code",
   "execution_count": 25,
   "id": "66bbf7e9-f35a-4239-bc09-941ca588b6f2",
   "metadata": {},
   "outputs": [
    {
     "data": {
      "text/html": [
       "<pre style=\"white-space:pre;overflow-x:auto;line-height:normal;font-family:Menlo,'DejaVu Sans Mono',consolas,'Courier New',monospace\">If I must: data journalism is supposedly important because it allows reporters to use numbers and statistics to \n",
       "uncover trends and patterns that might otherwise go unreported, but I still don't see the point of wasting good ink\n",
       "on a bunch of soulless spreadsheets.\n",
       "</pre>\n"
      ],
      "text/plain": [
       "If I must: data journalism is supposedly important because it allows reporters to use numbers and statistics to \n",
       "uncover trends and patterns that might otherwise go unreported, but I still don't see the point of wasting good ink\n",
       "on a bunch of soulless spreadsheets.\n"
      ]
     },
     "metadata": {},
     "output_type": "display_data"
    }
   ],
   "source": [
    "print(response.choices[0].message.content)"
   ]
  },
  {
   "cell_type": "markdown",
   "id": "2e3920a1-dfa7-4052-8829-e06f0d11b2ce",
   "metadata": {},
   "source": [
    "## Structured responses\n",
    "\n",
    "You don't have to ask for essays, poems or chitchat. You can ask an LLM to make very simple decisions and code data."
   ]
  },
  {
   "cell_type": "code",
   "execution_count": 36,
   "id": "bce3817a-f12a-4b0b-b1fa-daa419aef3dd",
   "metadata": {},
   "outputs": [],
   "source": [
    "response = client.chat.completions.create(\n",
    "    messages=[\n",
    "        {\n",
    "            \"role\": \"system\",\n",
    "            \"content\": \"You are a text classifier that categorizes text. I will provide the name of a professional sports team. You will reply with the sports league in which they compete.\"\n",
    "        },\n",
    "        {\n",
    "            \"role\": \"user\",\n",
    "            \"content\": \"Chicago Cubs\",\n",
    "        }\n",
    "    ],\n",
    "    model=\"llama-3.3-70b-versatile\",\n",
    ")"
   ]
  },
  {
   "cell_type": "code",
   "execution_count": 37,
   "id": "2ff29730-0c98-4136-bd6b-1914a8b5cd85",
   "metadata": {},
   "outputs": [
    {
     "data": {
      "text/html": [
       "<pre style=\"white-space:pre;overflow-x:auto;line-height:normal;font-family:Menlo,'DejaVu Sans Mono',consolas,'Courier New',monospace\">Major League Baseball <span style=\"font-weight: bold\">(</span>MLB<span style=\"font-weight: bold\">)</span>\n",
       "</pre>\n"
      ],
      "text/plain": [
       "Major League Baseball \u001b[1m(\u001b[0mMLB\u001b[1m)\u001b[0m\n"
      ]
     },
     "metadata": {},
     "output_type": "display_data"
    }
   ],
   "source": [
    "print(response.choices[0].message.content)"
   ]
  },
  {
   "cell_type": "code",
   "execution_count": 38,
   "id": "2fc60317-7bd5-4659-8cea-3fb1d66cf8a6",
   "metadata": {},
   "outputs": [],
   "source": [
    "response = client.chat.completions.create(\n",
    "    messages=[\n",
    "        {\n",
    "            \"role\": \"system\",\n",
    "            \"content\": \"You are a text classifier that categorizes text. I will provide the name of a professional sports team. You will reply with the sports league in which they compete.\"\n",
    "        },\n",
    "        {\n",
    "            \"role\": \"user\",\n",
    "            \"content\": \"Minnesota Vikings\",\n",
    "        }\n",
    "    ],\n",
    "    model=\"llama-3.3-70b-versatile\",\n",
    ")"
   ]
  },
  {
   "cell_type": "code",
   "execution_count": 39,
   "id": "e613bccb-0d0a-4d4c-b39e-ec5364b7fb67",
   "metadata": {},
   "outputs": [
    {
     "data": {
      "text/html": [
       "<pre style=\"white-space:pre;overflow-x:auto;line-height:normal;font-family:Menlo,'DejaVu Sans Mono',consolas,'Courier New',monospace\">National Football League <span style=\"font-weight: bold\">(</span>NFL<span style=\"font-weight: bold\">)</span>\n",
       "</pre>\n"
      ],
      "text/plain": [
       "National Football League \u001b[1m(\u001b[0mNFL\u001b[1m)\u001b[0m\n"
      ]
     },
     "metadata": {},
     "output_type": "display_data"
    }
   ],
   "source": [
    "print(response.choices[0].message.content)"
   ]
  },
  {
   "cell_type": "markdown",
   "id": "4dda1cf3-5f42-4bf6-9435-aea00c8eb01c",
   "metadata": {},
   "source": [
    "You can make a function to loop through a dataset and ask the LLM to code them one by one."
   ]
  },
  {
   "cell_type": "code",
   "execution_count": 42,
   "id": "225680e0-0829-4e04-b4fd-3ba5b1bf17cb",
   "metadata": {},
   "outputs": [],
   "source": [
    "def classify_team(name):\n",
    "    prompt = \"\"\"You are a text classifier that categorizes text.\n",
    "    \n",
    "I will provide the name of a professional sports team.\n",
    "\n",
    "You will reply with the sports league in which they compete.\"\"\"\n",
    "    \n",
    "    response = client.chat.completions.create(\n",
    "        messages=[\n",
    "            {\n",
    "                \"role\": \"system\",\n",
    "                \"content\": prompt,\n",
    "            },\n",
    "            {\n",
    "                \"role\": \"user\",\n",
    "                \"content\": name,\n",
    "            }\n",
    "        ],\n",
    "        model=\"llama-3.3-70b-versatile\",\n",
    "    )\n",
    "\n",
    "    return response.choices[0].message.content"
   ]
  },
  {
   "cell_type": "code",
   "execution_count": 48,
   "id": "ea1270fc-fc70-4d8f-93eb-f66a6512c087",
   "metadata": {},
   "outputs": [
    {
     "data": {
      "text/html": [
       "<pre style=\"white-space:pre;overflow-x:auto;line-height:normal;font-family:Menlo,'DejaVu Sans Mono',consolas,'Courier New',monospace\"><span style=\"font-weight: bold\">[</span><span style=\"color: #008000; text-decoration-color: #008000\">'Minnesota Twins'</span>, <span style=\"color: #008000; text-decoration-color: #008000\">'Major League Baseball (MLB)'</span><span style=\"font-weight: bold\">]</span>\n",
       "</pre>\n"
      ],
      "text/plain": [
       "\u001b[1m[\u001b[0m\u001b[32m'Minnesota Twins'\u001b[0m, \u001b[32m'Major League Baseball \u001b[0m\u001b[32m(\u001b[0m\u001b[32mMLB\u001b[0m\u001b[32m)\u001b[0m\u001b[32m'\u001b[0m\u001b[1m]\u001b[0m\n"
      ]
     },
     "metadata": {},
     "output_type": "display_data"
    },
    {
     "data": {
      "text/html": [
       "<pre style=\"white-space:pre;overflow-x:auto;line-height:normal;font-family:Menlo,'DejaVu Sans Mono',consolas,'Courier New',monospace\"><span style=\"font-weight: bold\">[</span><span style=\"color: #008000; text-decoration-color: #008000\">'Minnesota Vikings'</span>, <span style=\"color: #008000; text-decoration-color: #008000\">'National Football League (NFL)'</span><span style=\"font-weight: bold\">]</span>\n",
       "</pre>\n"
      ],
      "text/plain": [
       "\u001b[1m[\u001b[0m\u001b[32m'Minnesota Vikings'\u001b[0m, \u001b[32m'National Football League \u001b[0m\u001b[32m(\u001b[0m\u001b[32mNFL\u001b[0m\u001b[32m)\u001b[0m\u001b[32m'\u001b[0m\u001b[1m]\u001b[0m\n"
      ]
     },
     "metadata": {},
     "output_type": "display_data"
    },
    {
     "data": {
      "text/html": [
       "<pre style=\"white-space:pre;overflow-x:auto;line-height:normal;font-family:Menlo,'DejaVu Sans Mono',consolas,'Courier New',monospace\"><span style=\"font-weight: bold\">[</span><span style=\"color: #008000; text-decoration-color: #008000\">'Minnesota Timberwolves'</span>, <span style=\"color: #008000; text-decoration-color: #008000\">'National Basketball Association (NBA)'</span><span style=\"font-weight: bold\">]</span>\n",
       "</pre>\n"
      ],
      "text/plain": [
       "\u001b[1m[\u001b[0m\u001b[32m'Minnesota Timberwolves'\u001b[0m, \u001b[32m'National Basketball Association \u001b[0m\u001b[32m(\u001b[0m\u001b[32mNBA\u001b[0m\u001b[32m)\u001b[0m\u001b[32m'\u001b[0m\u001b[1m]\u001b[0m\n"
      ]
     },
     "metadata": {},
     "output_type": "display_data"
    }
   ],
   "source": [
    "team_list = [\"Minnesota Twins\", \"Minnesota Vikings\", \"Minnesota Timberwolves\"]\n",
    "for team in team_list:\n",
    "    league = classify_team(team)\n",
    "    print([team, league])"
   ]
  },
  {
   "cell_type": "markdown",
   "id": "409c2ad5-5a44-4e86-b97b-846ef7a4569d",
   "metadata": {},
   "source": [
    "Sometimes the LLM will get weird and return something you don't want. You can improve this be adding validation."
   ]
  },
  {
   "cell_type": "code",
   "execution_count": 45,
   "id": "fb7f8f07-142c-4f58-9078-8da85b18b7ca",
   "metadata": {},
   "outputs": [],
   "source": [
    "def classify_team(name):\n",
    "    prompt = \"\"\"You are a text classifier that categorizes text.\n",
    "    \n",
    "I will provide the name of a professional sports team.\n",
    "\n",
    "You will reply with the sports league in which they compete.\n",
    "\n",
    "Your responses must come from the following this:\n",
    "- Major League Baseball (MLB)\n",
    "- National Football League (NFL)\n",
    "- National Basketball Association (NBA)\n",
    "\"\"\"\n",
    "    \n",
    "    response = client.chat.completions.create(\n",
    "        messages=[\n",
    "            {\n",
    "                \"role\": \"system\",\n",
    "                \"content\": prompt,\n",
    "            },\n",
    "            {\n",
    "                \"role\": \"user\",\n",
    "                \"content\": name,\n",
    "            }\n",
    "        ],\n",
    "        model=\"llama-3.3-70b-versatile\",\n",
    "    )\n",
    "\n",
    "    answer = response.choices[0].message.content\n",
    "\n",
    "    acceptable_answers = [\n",
    "        \"Major League Baseball (MLB)\",\n",
    "        \"National Football League (NFL)\",\n",
    "        \"National Basketball Association (NBA)\",\n",
    "    ]\n",
    "    if answer not in acceptable_answers:\n",
    "        raise ValueError(f\"{answer} not in list of acceptable answers\")\n",
    "\n",
    "    return answer"
   ]
  },
  {
   "cell_type": "code",
   "execution_count": 47,
   "id": "d7221dac-5ac7-440b-83ef-c6793a7d5778",
   "metadata": {},
   "outputs": [
    {
     "ename": "ValueError",
     "evalue": "Women's National Basketball Association (WNBA) \n\nHowever, since WNBA isn't an option and considering the context of other options provided and the most relevant one, I will classify it as: \nNational Basketball Association (NBA) isn't correct, though, a more accurate answer would be the WNBA. not in list of acceptable answers",
     "output_type": "error",
     "traceback": [
      "\u001b[0;31m---------------------------------------------------------------------------\u001b[0m",
      "\u001b[0;31mValueError\u001b[0m                                Traceback (most recent call last)",
      "Cell \u001b[0;32mIn[47], line 1\u001b[0m\n\u001b[0;32m----> 1\u001b[0m \u001b[43mclassify_team\u001b[49m\u001b[43m(\u001b[49m\u001b[38;5;124;43m\"\u001b[39;49m\u001b[38;5;124;43mIndiana Fever\u001b[39;49m\u001b[38;5;124;43m\"\u001b[39;49m\u001b[43m)\u001b[49m\n",
      "Cell \u001b[0;32mIn[45], line 36\u001b[0m, in \u001b[0;36mclassify_team\u001b[0;34m(name)\u001b[0m\n\u001b[1;32m     30\u001b[0m acceptable_answers \u001b[38;5;241m=\u001b[39m [\n\u001b[1;32m     31\u001b[0m     \u001b[38;5;124m\"\u001b[39m\u001b[38;5;124mMajor League Baseball (MLB)\u001b[39m\u001b[38;5;124m\"\u001b[39m,\n\u001b[1;32m     32\u001b[0m     \u001b[38;5;124m\"\u001b[39m\u001b[38;5;124mNational Football League (NFL)\u001b[39m\u001b[38;5;124m\"\u001b[39m,\n\u001b[1;32m     33\u001b[0m     \u001b[38;5;124m\"\u001b[39m\u001b[38;5;124mNational Basketball Association (NBA)\u001b[39m\u001b[38;5;124m\"\u001b[39m,\n\u001b[1;32m     34\u001b[0m ]\n\u001b[1;32m     35\u001b[0m \u001b[38;5;28;01mif\u001b[39;00m answer \u001b[38;5;129;01mnot\u001b[39;00m \u001b[38;5;129;01min\u001b[39;00m acceptable_answers:\n\u001b[0;32m---> 36\u001b[0m     \u001b[38;5;28;01mraise\u001b[39;00m \u001b[38;5;167;01mValueError\u001b[39;00m(\u001b[38;5;124mf\u001b[39m\u001b[38;5;124m\"\u001b[39m\u001b[38;5;132;01m{\u001b[39;00manswer\u001b[38;5;132;01m}\u001b[39;00m\u001b[38;5;124m not in list of acceptable answers\u001b[39m\u001b[38;5;124m\"\u001b[39m)\n\u001b[1;32m     38\u001b[0m \u001b[38;5;28;01mreturn\u001b[39;00m answer\n",
      "\u001b[0;31mValueError\u001b[0m: Women's National Basketball Association (WNBA) \n\nHowever, since WNBA isn't an option and considering the context of other options provided and the most relevant one, I will classify it as: \nNational Basketball Association (NBA) isn't correct, though, a more accurate answer would be the WNBA. not in list of acceptable answers"
     ]
    }
   ],
   "source": [
    "classify_team(\"Indiana Fever\")"
   ]
  },
  {
   "cell_type": "markdown",
   "id": "81e4fe49-2a5f-4820-8535-ee9dd1dcb6b4",
   "metadata": {},
   "source": [
    "There are different strategies you can take to deal with this issue. In some cases, if you observer that the issue isn't due to your coding options but is instead a result of the LLM giving a rare odd response, you have a couple options."
   ]
  },
  {
   "cell_type": "markdown",
   "id": "50659cab-3936-412d-883b-0d6e00e4c28b",
   "metadata": {},
   "source": [
    "The first one, which you should consider making routine, is to lower the \"temperature\" of the model, which is a way dial down its creativity and make it more consistent."
   ]
  },
  {
   "cell_type": "code",
   "execution_count": 59,
   "id": "5c2589ed-bb79-440c-8d52-90fd566da72f",
   "metadata": {},
   "outputs": [],
   "source": [
    "def classify_team(name):\n",
    "    prompt = \"\"\"You are a text classifier that categorizes text.\n",
    "    \n",
    "I will provide the name of a professional sports team.\n",
    "\n",
    "You will reply with the sports league in which they compete.\n",
    "\n",
    "Your responses must come from the following this:\n",
    "- Major League Baseball (MLB)\n",
    "- National Football League (NFL)\n",
    "- National Basketball Association (NBA)\n",
    "\"\"\"\n",
    "    \n",
    "    response = client.chat.completions.create(\n",
    "        messages=[\n",
    "            {\n",
    "                \"role\": \"system\",\n",
    "                \"content\": prompt,\n",
    "            },\n",
    "            {\n",
    "                \"role\": \"user\",\n",
    "                \"content\": name,\n",
    "            }\n",
    "        ],\n",
    "        model=\"llama-3.3-70b-versatile\",\n",
    "        temperature=0\n",
    "    )\n",
    "\n",
    "    answer = response.choices[0].message.content\n",
    "\n",
    "    acceptable_answers = [\n",
    "        \"Major League Baseball (MLB)\",\n",
    "        \"National Football League (NFL)\",\n",
    "        \"National Basketball Association (NBA)\",\n",
    "    ]\n",
    "    if answer not in acceptable_answers:\n",
    "        raise ValueError(f\"{answer} not in list of acceptable answers\")\n",
    "\n",
    "    return answer"
   ]
  },
  {
   "cell_type": "code",
   "execution_count": 60,
   "id": "4d5ecf8a-adb5-4c9e-b9b8-0fcefc867a35",
   "metadata": {},
   "outputs": [
    {
     "data": {
      "text/plain": [
       "'Major League Baseball (MLB)'"
      ]
     },
     "execution_count": 60,
     "metadata": {},
     "output_type": "execute_result"
    }
   ],
   "source": [
    "classify_team(\"Chicago White Sox\")"
   ]
  },
  {
   "cell_type": "markdown",
   "id": "607428e4-1879-402f-8754-a606161cbba7",
   "metadata": {},
   "source": [
    "You can also provide some sample responses to the LLM to give it a \"few-shot\" training."
   ]
  },
  {
   "cell_type": "code",
   "execution_count": 99,
   "id": "f7da8462-1911-41cb-897b-2e1c62f09d9e",
   "metadata": {},
   "outputs": [],
   "source": [
    "def classify_team(name):\n",
    "    prompt = \"\"\"You are a text classifier that categorizes text.\n",
    "    \n",
    "I will provide the name of a professional sports team.\n",
    "\n",
    "You will reply with the sports league in which they compete.\n",
    "\n",
    "Your responses must come from the following this:\n",
    "- Major League Baseball (MLB)\n",
    "- National Football League (NFL)\n",
    "- National Basketball Association (NBA)\n",
    "\"\"\"\n",
    "    \n",
    "    response = client.chat.completions.create(\n",
    "        messages=[\n",
    "            {\n",
    "                \"role\": \"system\",\n",
    "                \"content\": prompt,\n",
    "            },\n",
    "            {\n",
    "                \"role\": \"user\",\n",
    "                \"content\": \"Los Angeles Rams\",\n",
    "            },\n",
    "            {\n",
    "                \"role\": \"assistant\",\n",
    "                \"content\": \"National Football League (NFL)\",\n",
    "            },\n",
    "            {\n",
    "                \"role\": \"user\",\n",
    "                \"content\": \"Los Angeles Dodgers\",\n",
    "            },\n",
    "            {\n",
    "                \"role\": \"assistant\",\n",
    "                \"content\": \" Major League Baseball (MLB)\",\n",
    "            },\n",
    "            {\n",
    "                \"role\": \"user\",\n",
    "                \"content\": \"Los Angeles Lakers\",\n",
    "            },\n",
    "            {\n",
    "                \"role\": \"assistant\",\n",
    "                \"content\": \"National Basketball Association (NBA)\",\n",
    "            },\n",
    "            {\n",
    "                \"role\": \"user\",\n",
    "                \"content\": name,\n",
    "            },\n",
    "        ],\n",
    "        model=\"llama-3.3-70b-versatile\",\n",
    "        temperature=0\n",
    "    )\n",
    "\n",
    "    answer = response.choices[0].message.content\n",
    "\n",
    "    acceptable_answers = [\n",
    "        \"Major League Baseball (MLB)\",\n",
    "        \"National Football League (NFL)\",\n",
    "        \"National Basketball Association (NBA)\",\n",
    "    ]\n",
    "    if answer not in acceptable_answers:\n",
    "        raise ValueError(f\"{answer} not in list of acceptable answers\")\n",
    "\n",
    "    return answer"
   ]
  },
  {
   "cell_type": "code",
   "execution_count": 100,
   "id": "6618ce00-8d2f-4c11-b8cf-342be1af8ed2",
   "metadata": {},
   "outputs": [
    {
     "data": {
      "text/plain": [
       "'National Basketball Association (NBA)'"
      ]
     },
     "execution_count": 100,
     "metadata": {},
     "output_type": "execute_result"
    }
   ],
   "source": [
    "classify_team(\"Chicago Bulls\")"
   ]
  },
  {
   "cell_type": "markdown",
   "id": "da3b7a99-1887-4429-8f29-382564d0f440",
   "metadata": {},
   "source": [
    "You can also force the function to retry when there's an error. Here's a way to do that with Python's retry decorator."
   ]
  },
  {
   "cell_type": "code",
   "execution_count": 50,
   "id": "0f308e18-15c1-44a3-ace3-934f24aa76f8",
   "metadata": {},
   "outputs": [],
   "source": [
    "from retry import retry"
   ]
  },
  {
   "cell_type": "code",
   "execution_count": 51,
   "id": "12512520-5579-41f9-8e8f-c4d5fb424dff",
   "metadata": {},
   "outputs": [],
   "source": [
    "@retry(ValueError, tries=2, delay=2)\n",
    "def classify_team(name):\n",
    "    prompt = \"\"\"You are a text classifier that categorizes text.\n",
    "    \n",
    "I will provide the name of a professional sports team.\n",
    "\n",
    "You will reply with the sports league in which they compete.\n",
    "\n",
    "Your responses must come from the following this:\n",
    "- Major League Baseball (MLB)\n",
    "- National Football League (NFL)\n",
    "- National Basketball Association (NBA)\n",
    "\"\"\"\n",
    "    \n",
    "    response = client.chat.completions.create(\n",
    "        messages=[\n",
    "            {\n",
    "                \"role\": \"system\",\n",
    "                \"content\": prompt,\n",
    "            },\n",
    "            {\n",
    "                \"role\": \"user\",\n",
    "                \"content\": \"Los Angeles Rams\",\n",
    "            },\n",
    "            {\n",
    "                \"role\": \"assistant\",\n",
    "                \"content\": \"National Football League (NFL)\",\n",
    "            },\n",
    "            {\n",
    "                \"role\": \"user\",\n",
    "                \"content\": \"Los Angeles Dodgers\",\n",
    "            },\n",
    "            {\n",
    "                \"role\": \"assistant\",\n",
    "                \"content\": \" Major League Baseball (MLB)\",\n",
    "            },\n",
    "            {\n",
    "                \"role\": \"user\",\n",
    "                \"content\": \"Los Angeles Lakers\",\n",
    "            },\n",
    "            {\n",
    "                \"role\": \"assistant\",\n",
    "                \"content\": \"National Basketball Association (NBA)\",\n",
    "            },\n",
    "            {\n",
    "                \"role\": \"user\",\n",
    "                \"content\": name,\n",
    "            }\n",
    "        ],\n",
    "        model=\"llama-3.3-70b-versatile\",\n",
    "        temperature=0\n",
    "    )\n",
    "\n",
    "    answer = response.choices[0].message.content\n",
    "\n",
    "    acceptable_answers = [\n",
    "        \"Major League Baseball (MLB)\",\n",
    "        \"National Football League (NFL)\",\n",
    "        \"National Basketball Association (NBA)\",\n",
    "    ]\n",
    "    if answer not in acceptable_answers:\n",
    "        raise ValueError(f\"{answer} not in list of acceptable answers\")\n",
    "\n",
    "    return answer"
   ]
  },
  {
   "cell_type": "markdown",
   "id": "d27a9ce5-6dcb-4fed-b1a1-5efd6644ec44",
   "metadata": {},
   "source": [
    "That can solve for malformed responses, but sometimes there just isn't answer in your validation list. One way to manage that is to allow an \"other\" category."
   ]
  },
  {
   "cell_type": "code",
   "execution_count": 101,
   "id": "d4140275-2542-4b6b-9ed6-9805bfffab28",
   "metadata": {},
   "outputs": [],
   "source": [
    "@retry(ValueError, tries=2, delay=2)\n",
    "def classify_team(name):\n",
    "    prompt = \"\"\"You are a text classifier that categorizes text.\n",
    "    \n",
    "I will provide the name of a professional sports team.\n",
    "\n",
    "You will reply with the sports league in which they compete.\n",
    "\n",
    "The answers must be one of the following options:\n",
    "- Major League Baseball (MLB)\n",
    "- National Football League (NFL)\n",
    "- National Basketball Association (NBA)\n",
    "\n",
    "If the team is not a member of all of the three leagues on the list, you should return \"Other\"\n",
    "\"\"\"\n",
    "    \n",
    "    response = client.chat.completions.create(\n",
    "        messages=[\n",
    "            {\n",
    "                \"role\": \"system\",\n",
    "                \"content\": prompt,\n",
    "            },\n",
    "            {\n",
    "                \"role\": \"user\",\n",
    "                \"content\": \"Los Angeles Rams\",\n",
    "            },\n",
    "            {\n",
    "                \"role\": \"assistant\",\n",
    "                \"content\": \"National Football League (NFL)\",\n",
    "            },\n",
    "            {\n",
    "                \"role\": \"user\",\n",
    "                \"content\": \"Los Angeles Dodgers\",\n",
    "            },\n",
    "            {\n",
    "                \"role\": \"assistant\",\n",
    "                \"content\": \" Major League Baseball (MLB)\",\n",
    "            },\n",
    "            {\n",
    "                \"role\": \"user\",\n",
    "                \"content\": \"Los Angeles Lakers\",\n",
    "            },\n",
    "            {\n",
    "                \"role\": \"assistant\",\n",
    "                \"content\": \"National Basketball Association (NBA)\",\n",
    "            },\n",
    "            {\n",
    "                \"role\": \"user\",\n",
    "                \"content\": \"Los Angeles Kings\",\n",
    "            },\n",
    "            {\n",
    "                \"role\": \"assistant\",\n",
    "                \"content\": \"Other\",\n",
    "            },            \n",
    "            {\n",
    "                \"role\": \"user\",\n",
    "                \"content\": name,\n",
    "            },\n",
    "        ],\n",
    "        model=\"llama-3.3-70b-versatile\",\n",
    "        temperature=0\n",
    "    )\n",
    "\n",
    "    answer = response.choices[0].message.content\n",
    "\n",
    "    acceptable_answers = [\n",
    "        \"Major League Baseball (MLB)\",\n",
    "        \"National Football League (NFL)\",\n",
    "        \"National Basketball Association (NBA)\",\n",
    "        \"Other\",\n",
    "    ]\n",
    "    if answer not in acceptable_answers:\n",
    "        raise ValueError(f\"{answer} not in list of acceptable answers\")\n",
    "\n",
    "    return answer"
   ]
  },
  {
   "cell_type": "code",
   "execution_count": 102,
   "id": "b7fc8686-469e-484c-a097-9017dc9539e6",
   "metadata": {},
   "outputs": [
    {
     "data": {
      "text/plain": [
       "'Other'"
      ]
     },
     "execution_count": 102,
     "metadata": {},
     "output_type": "execute_result"
    }
   ],
   "source": [
    "classify_team(\"Indiana Fever\")"
   ]
  },
  {
   "cell_type": "markdown",
   "id": "31c88a27-edb4-428c-b2d5-55bc62f70646",
   "metadata": {},
   "source": [
    "## Bulk prompts"
   ]
  },
  {
   "cell_type": "markdown",
   "id": "e7515608-a6e5-4076-8bf2-8847d7c06e5a",
   "metadata": {},
   "source": [
    "Requesting answers one by one can take a long time. And it can end up costing you money. \n",
    "\n",
    "The solution is to submit your requests in batches and then get the answers back from the LLM as JSON you can parse."
   ]
  },
  {
   "cell_type": "code",
   "execution_count": 69,
   "id": "1bb629eb-4e14-49b9-9741-f06ce66cdb2b",
   "metadata": {},
   "outputs": [],
   "source": [
    "import json"
   ]
  },
  {
   "cell_type": "code",
   "execution_count": 103,
   "id": "a514a836-f919-4261-b05d-08d690ac67be",
   "metadata": {},
   "outputs": [],
   "source": [
    "# @retry(ValueError, tries=2, delay=2)\n",
    "def classify_teams(name_list):\n",
    "    prompt = \"\"\"You are a text classifier that categorizes items.\n",
    "\n",
    " I will provide a list of names of professional sports teams separated by newlines.\n",
    "\n",
    "You will determine the sports league in which each one of them competes.\n",
    "\n",
    "The answers must be one of the following options:\n",
    "- Major League Baseball (MLB)\n",
    "- National Football League (NFL)\n",
    "- National Basketball Association (NBA)\n",
    "\n",
    "If the team is not a member of any of the three leagues on the list, you should label them as \"Other\".\n",
    "\n",
    "Your answers should be returned as a flat JSON list. Do not return a dictionary or any kind of nested data.\n",
    "\n",
    "If I were to submit:\n",
    "\n",
    "\"Los Angeles Rams\n",
    "Los Angeles Dodgers\n",
    "Los Angeles Lakers\n",
    "Los Angeles Kings\"\n",
    "\n",
    "You should return the following:\n",
    "\n",
    "[\"National Football League (NFL)\", \"Major League Baseball (MLB)\", \"National Basketball Association (NBA)\", \"Other\"]\n",
    "\"\"\"\n",
    "    \n",
    "    response = client.chat.completions.create(\n",
    "        messages=[\n",
    "            {\n",
    "                \"role\": \"system\",\n",
    "                \"content\": prompt,\n",
    "            },\n",
    "            {\n",
    "                \"role\": \"user\",\n",
    "                \"content\": \"Chicago Bears,Chicago Cubs,Chicago Bulls,Chicago Blackhawks\",\n",
    "            },\n",
    "            {\n",
    "                \"role\": \"assistant\",\n",
    "                \"content\": '[\"National Football League (NFL)\", \"Major League Baseball (MLB)\", \"National Basketball Association (NBA)\", \"Other\"]',\n",
    "            },   \n",
    "            {\n",
    "                \"role\": \"user\",\n",
    "                \"content\": \"\\n\".join(name_list),\n",
    "            }\n",
    "        ],\n",
    "        model=\"llama-3.3-70b-versatile\",\n",
    "        temperature=0,\n",
    "    )\n",
    "\n",
    "    answer_str = response.choices[0].message.content\n",
    "    answer_list = json.loads(answer_str)\n",
    "\n",
    "    acceptable_answers = [\n",
    "        \"Major League Baseball (MLB)\",\n",
    "        \"National Football League (NFL)\",\n",
    "        \"National Basketball Association (NBA)\",\n",
    "        \"Other\",\n",
    "    ]\n",
    "    for answer in answer_list:\n",
    "        if answer not in acceptable_answers:\n",
    "            raise ValueError(f\"{answer} not in list of acceptable answers\")\n",
    "   \n",
    "    return dict(zip(name_list, answer_list))"
   ]
  },
  {
   "cell_type": "code",
   "execution_count": 104,
   "id": "bdd48f24-0991-4ad9-9fe8-705af99723e7",
   "metadata": {},
   "outputs": [
    {
     "data": {
      "text/plain": [
       "{'Minnesota Twins': 'Major League Baseball (MLB)',\n",
       " 'Minnesota Vikings': 'National Football League (NFL)',\n",
       " 'Minnesota Timberwolves': 'National Basketball Association (NBA)'}"
      ]
     },
     "execution_count": 104,
     "metadata": {},
     "output_type": "execute_result"
    }
   ],
   "source": [
    "classify_teams(team_list)"
   ]
  },
  {
   "cell_type": "markdown",
   "id": "a9e8e85c-3e19-4744-8198-bb4898c9d005",
   "metadata": {},
   "source": [
    "### This time ... for journalism"
   ]
  },
  {
   "cell_type": "markdown",
   "id": "91de4ce2-d4b9-46f7-b56f-975670c10156",
   "metadata": {},
   "source": [
    "Let's get some real data in here."
   ]
  },
  {
   "cell_type": "code",
   "execution_count": 106,
   "id": "37e3022f-19e9-46b2-ace3-bfc8b32b5911",
   "metadata": {},
   "outputs": [],
   "source": [
    "import pandas as pd"
   ]
  },
  {
   "cell_type": "code",
   "execution_count": 107,
   "id": "7862406c-4e91-4360-b95b-b2a3e6107da4",
   "metadata": {},
   "outputs": [],
   "source": [
    "df = pd.read_csv(\"Form460ScheduleESubItem.csv\")"
   ]
  },
  {
   "cell_type": "code",
   "execution_count": 109,
   "id": "9aed9737-3cd5-4ce9-b2ea-f6ca5114bf70",
   "metadata": {},
   "outputs": [
    {
     "data": {
      "text/html": [
       "<div>\n",
       "<style scoped>\n",
       "    .dataframe tbody tr th:only-of-type {\n",
       "        vertical-align: middle;\n",
       "    }\n",
       "\n",
       "    .dataframe tbody tr th {\n",
       "        vertical-align: top;\n",
       "    }\n",
       "\n",
       "    .dataframe thead th {\n",
       "        text-align: right;\n",
       "    }\n",
       "</style>\n",
       "<table border=\"1\" class=\"dataframe\">\n",
       "  <thead>\n",
       "    <tr style=\"text-align: right;\">\n",
       "      <th></th>\n",
       "      <th>payee</th>\n",
       "    </tr>\n",
       "  </thead>\n",
       "  <tbody>\n",
       "    <tr>\n",
       "      <th>778</th>\n",
       "      <td>ANTIOCH CHAMBER OF COMMERCE</td>\n",
       "    </tr>\n",
       "    <tr>\n",
       "      <th>16029</th>\n",
       "      <td>WIX</td>\n",
       "    </tr>\n",
       "    <tr>\n",
       "      <th>11816</th>\n",
       "      <td>RANCHO BERNARDO CHAMBER</td>\n",
       "    </tr>\n",
       "    <tr>\n",
       "      <th>10221</th>\n",
       "      <td>NEUMANN ENTERPRISES</td>\n",
       "    </tr>\n",
       "    <tr>\n",
       "      <th>5081</th>\n",
       "      <td>FIVE STAR TOURS &amp; CHARTER BUS COMPANY</td>\n",
       "    </tr>\n",
       "    <tr>\n",
       "      <th>2157</th>\n",
       "      <td>CALIFORNIA DEMOCRATIC PARTY - NON FEDERAL ACCOUNT</td>\n",
       "    </tr>\n",
       "    <tr>\n",
       "      <th>14349</th>\n",
       "      <td>THE KITCHEN CORPORATION</td>\n",
       "    </tr>\n",
       "    <tr>\n",
       "      <th>8820</th>\n",
       "      <td>LONGHI'S</td>\n",
       "    </tr>\n",
       "    <tr>\n",
       "      <th>10784</th>\n",
       "      <td>OSSEN CARDENAS</td>\n",
       "    </tr>\n",
       "    <tr>\n",
       "      <th>8350</th>\n",
       "      <td>LA FOCUS PUBLICATIONS</td>\n",
       "    </tr>\n",
       "  </tbody>\n",
       "</table>\n",
       "</div>"
      ],
      "text/plain": [
       "                                                   payee\n",
       "778                          ANTIOCH CHAMBER OF COMMERCE\n",
       "16029                                                WIX\n",
       "11816                            RANCHO BERNARDO CHAMBER\n",
       "10221                                NEUMANN ENTERPRISES\n",
       "5081               FIVE STAR TOURS & CHARTER BUS COMPANY\n",
       "2157   CALIFORNIA DEMOCRATIC PARTY - NON FEDERAL ACCOUNT\n",
       "14349                            THE KITCHEN CORPORATION\n",
       "8820                                            LONGHI'S\n",
       "10784                                     OSSEN CARDENAS\n",
       "8350                               LA FOCUS PUBLICATIONS"
      ]
     },
     "execution_count": 109,
     "metadata": {},
     "output_type": "execute_result"
    }
   ],
   "source": [
    "df.sample(10)"
   ]
  },
  {
   "cell_type": "code",
   "execution_count": 128,
   "id": "179e7da1-2ff3-464a-8e14-e629c0f262c6",
   "metadata": {},
   "outputs": [],
   "source": [
    "@retry(ValueError, tries=2, delay=2)\n",
    "def classify_payees(name_list):\n",
    "    prompt = \"\"\"You are a text classifier that categorizes items.\n",
    "\n",
    "I will provide a list of business names separated by newlines.\n",
    "\n",
    "I want you to examine them individually and determine if they are one the following types:\n",
    "- Restaurant\n",
    "- Bar\n",
    "- Nightclub\n",
    "- Hotel\n",
    "\n",
    "If they are, return the name of the type exactly as it appears in the list above.\n",
    "\n",
    "If they are not one of those four types, you must return \"Other\"\n",
    "\n",
    "Your answers should be returned as a flat JSON list. Do not return a dictionary or any kind of nested data.\n",
    "\n",
    "If I were to submit:\n",
    "\n",
    "\"Intercontinental Hotel\n",
    "Pizza Hut\n",
    "Musso and Frank's\n",
    "Studio 54\n",
    "KTLA\n",
    "Direct Mailing\"\n",
    "\n",
    "You should return the following:\n",
    "\n",
    "[\"Hotel\", \"Restaurant\", \"Bar\", \"Nightclub\", \"Other\", \"Other\"]\n",
    "\"\"\"\n",
    "    \n",
    "    response = client.chat.completions.create(\n",
    "        messages=[\n",
    "            {\n",
    "                \"role\": \"system\",\n",
    "                \"content\": prompt,\n",
    "            },\n",
    "            {\n",
    "                \"role\": \"user\",\n",
    "                \"content\": \"Subway Sandwiches\\nRuth Chris Steakhouse\\nPolitical Consulting Co\\nThe Lamb's Club\",\n",
    "            },\n",
    "            {\n",
    "                \"role\": \"assistant\",\n",
    "                \"content\": '[\"Restaurant\", \"Restaurant\", \"Other\", \"Bar\"]',\n",
    "            },   \n",
    "            {\n",
    "                \"role\": \"user\",\n",
    "                \"content\": \"\\n\".join(name_list),\n",
    "            }\n",
    "        ],\n",
    "        model=\"llama-3.3-70b-versatile\",\n",
    "        temperature=0,\n",
    "    )\n",
    "\n",
    "    answer_str = response.choices[0].message.content\n",
    "    answer_list = json.loads(answer_str)\n",
    "\n",
    "    acceptable_answers = [\n",
    "        \"Restaurant\",\n",
    "        \"Bar\",\n",
    "        \"Nightclub\",\n",
    "        \"Hotel\",\n",
    "        \"Other\",\n",
    "    ]\n",
    "    for answer in answer_list:\n",
    "        if answer not in acceptable_answers:\n",
    "            raise ValueError(f\"{answer} not in list of acceptable answers\")\n",
    "   \n",
    "    return dict(zip(name_list, answer_list))"
   ]
  },
  {
   "cell_type": "code",
   "execution_count": 116,
   "id": "72fa4014-2bb4-4634-9892-af4cf60858e4",
   "metadata": {},
   "outputs": [],
   "source": [
    "sample_list = list(df.sample(10).payee)"
   ]
  },
  {
   "cell_type": "code",
   "execution_count": 117,
   "id": "054afef8-6054-452d-9e91-11f2a300bbc5",
   "metadata": {},
   "outputs": [
    {
     "data": {
      "text/plain": [
       "{'HILTON LOS ANGELES/UNIVERSAL CITY': 'Hotel',\n",
       " 'DODGER STADIUM': 'Other',\n",
       " 'SIERRA TRADING POST': 'Other',\n",
       " 'PALM MOUNTAIN RESORT & SPA': 'Hotel',\n",
       " 'FRESCO': 'Restaurant',\n",
       " 'HILTON HAWAIIAN VILLAGE BEACH RESORT & SPA': 'Hotel',\n",
       " 'KQKE AM': 'Other',\n",
       " 'HILTON HOTELS NEW YORK': 'Hotel',\n",
       " 'EL PORTAL DEL ANGEL': 'Restaurant',\n",
       " 'EL TORITO MEXICAN RESTAURANT': 'Restaurant'}"
      ]
     },
     "execution_count": 117,
     "metadata": {},
     "output_type": "execute_result"
    }
   ],
   "source": [
    "classify_payees(sample_list)"
   ]
  },
  {
   "cell_type": "code",
   "execution_count": 118,
   "id": "6934bb4d-bfa3-426d-956f-59a230e9854a",
   "metadata": {},
   "outputs": [
    {
     "data": {
      "text/plain": [
       "16448"
      ]
     },
     "execution_count": 118,
     "metadata": {},
     "output_type": "execute_result"
    }
   ],
   "source": [
    "len(df.payee)"
   ]
  },
  {
   "cell_type": "code",
   "execution_count": 120,
   "id": "5f55b917-9915-4c87-b5a7-ae1a6fb7f337",
   "metadata": {},
   "outputs": [],
   "source": [
    "bigger_sample = list(df.sample(1000).payee)"
   ]
  },
  {
   "cell_type": "code",
   "execution_count": 121,
   "id": "04aa38fb-32b6-422c-a9a4-a3cc2424ab3e",
   "metadata": {},
   "outputs": [],
   "source": [
    "import time"
   ]
  },
  {
   "cell_type": "code",
   "execution_count": null,
   "id": "c7bfacff-6b02-41fc-921d-1ddd9ec26b19",
   "metadata": {},
   "outputs": [],
   "source": [
    "# Set the batch size\n",
    "batch_size = 50\n",
    "\n",
    "# Store the results\n",
    "all_results = {}\n",
    "\n",
    "# Loop through the list in batches\n",
    "for i in range(0, len(bigger_sample), batch_size):\n",
    "    # Get the batch\n",
    "    batch = bigger_sample[i : i + batch_size]\n",
    "    # Classify it\n",
    "    batch_results = classify_payees(batch)\n",
    "    # Add it to the mega list\n",
    "    all_results.update(batch_results)\n",
    "    # Tap the brakes\n",
    "    time.sleep(2)"
   ]
  },
  {
   "cell_type": "markdown",
   "id": "715497a6-03d0-4aff-96ad-9e712cb84703",
   "metadata": {},
   "source": [
    "## Evaluate"
   ]
  },
  {
   "cell_type": "markdown",
   "id": "d4b2ad4b-9f35-4315-911a-e550227391db",
   "metadata": {},
   "source": [
    "Here we hammer the supervised sample..."
   ]
  },
  {
   "cell_type": "markdown",
   "id": "39ca005d-8160-44c3-9412-8287f6c810ff",
   "metadata": {},
   "source": [
    "I import a training set that I've prepared a head of time..."
   ]
  },
  {
   "cell_type": "markdown",
   "id": "afe9f6c3-b37f-43da-8236-740f52e804f0",
   "metadata": {},
   "source": [
    "We use scipy to evaluate how well the LLM does on the supervised sample.."
   ]
  },
  {
   "cell_type": "markdown",
   "id": "30d99627-5ddb-48ae-8d8b-f20311fa342d",
   "metadata": {},
   "source": [
    "We feed the training set into few-shot pre-prompts and see if it improves the results..."
   ]
  },
  {
   "cell_type": "markdown",
   "id": "7159854c-2ba7-4ef5-a01a-29233e93a5fc",
   "metadata": {},
   "source": [
    "We compare those results against a pre-written old school sklearn version that is trained on our sample..."
   ]
  },
  {
   "cell_type": "code",
   "execution_count": null,
   "id": "0e3505e9-f09e-4290-a402-c021131f8af1",
   "metadata": {},
   "outputs": [],
   "source": []
  }
 ],
 "metadata": {
  "kernelspec": {
   "display_name": "Python 3 (ipykernel)",
   "language": "python",
   "name": "python3"
  },
  "language_info": {
   "codemirror_mode": {
    "name": "ipython",
    "version": 3
   },
   "file_extension": ".py",
   "mimetype": "text/x-python",
   "name": "python",
   "nbconvert_exporter": "python",
   "pygments_lexer": "ipython3",
   "version": "3.12.0"
  }
 },
 "nbformat": 4,
 "nbformat_minor": 5
}
